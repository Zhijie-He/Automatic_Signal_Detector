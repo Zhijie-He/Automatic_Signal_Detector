{
  "nbformat": 4,
  "nbformat_minor": 0,
  "metadata": {
    "colab": {
      "name": "Task 9: Transfer Learning.ipynb",
      "provenance": [],
      "collapsed_sections": [],
      "toc_visible": true
    },
    "kernelspec": {
      "name": "python3",
      "display_name": "Python 3"
    },
    "language_info": {
      "name": "python"
    }
  },
  "cells": [
    {
      "cell_type": "markdown",
      "metadata": {
        "id": "3wA9qh-ngeHh"
      },
      "source": [
        "## Transfer Learning\n",
        "\n",
        "\n",
        "\n",
        "Instead of using directly the frames of the image, you will extract the image features from the pre-trained network VGG.\n",
        "\n",
        "And then add our customized classifier layer to classify images using the features"
      ]
    },
    {
      "cell_type": "markdown",
      "metadata": {
        "id": "Fbq77j1R3MKe"
      },
      "source": [
        "### Import Necessary Libraries"
      ]
    },
    {
      "cell_type": "code",
      "metadata": {
        "id": "pxNNv0Xxixq6"
      },
      "source": [
        "import keras\n",
        "from keras.models import Model\n",
        "from keras.applications.vgg19 import VGG19\n",
        "from keras.preprocessing import image\n",
        "from keras.applications.vgg19 import preprocess_input\n",
        "from keras.layers import Flatten\n",
        "from keras.layers import Dense\n",
        "import glob\n",
        "import numpy as np\n",
        "from sklearn.model_selection import train_test_split\n",
        "import cv2\n",
        "from google.colab.patches import cv2_imshow\n",
        "import matplotlib.pyplot as plt\n",
        "from sklearn.metrics import confusion_matrix\n",
        "import pandas as pd\n",
        "import seaborn as sns"
      ],
      "execution_count": null,
      "outputs": []
    },
    {
      "cell_type": "markdown",
      "metadata": {
        "id": "Q-abGmXG3SNU"
      },
      "source": [
        "Load the dataset from google drive"
      ]
    },
    {
      "cell_type": "code",
      "metadata": {
        "colab": {
          "base_uri": "https://localhost:8080/"
        },
        "id": "1eyeTMGIgecr",
        "outputId": "6636a258-5bc9-4c19-e872-5c27c08e16a4"
      },
      "source": [
        "from google.colab import drive\n",
        "drive.mount('/content/drive', force_remount=True)"
      ],
      "execution_count": null,
      "outputs": [
        {
          "output_type": "stream",
          "text": [
            "Mounted at /content/drive\n"
          ],
          "name": "stdout"
        }
      ]
    },
    {
      "cell_type": "code",
      "metadata": {
        "id": "G7zj8latiwSs"
      },
      "source": [
        "!cp /content/drive/MyDrive/Computer_Vision/DataSet/Dataset.zip .\n",
        "!unzip Dataset.zip -d dataset"
      ],
      "execution_count": null,
      "outputs": []
    },
    {
      "cell_type": "markdown",
      "metadata": {
        "id": "tBDtqzL13U37"
      },
      "source": [
        "Calculate the number of images"
      ]
    },
    {
      "cell_type": "code",
      "metadata": {
        "id": "q7DFkM3Ei3C6"
      },
      "source": [
        "def get_images_number(path_to_images):\n",
        "  number = []\n",
        "  paths_list = sorted(glob.glob(path_to_images + \"/*\"))\n",
        "  for label in paths_list:\n",
        "    number.append(len(glob.glob(label + \"/*\")))\n",
        "  return number"
      ],
      "execution_count": null,
      "outputs": []
    },
    {
      "cell_type": "code",
      "metadata": {
        "colab": {
          "base_uri": "https://localhost:8080/"
        },
        "id": "_wuIfsEpDa83",
        "outputId": "02914fed-7147-4d6d-9869-3f289fb8dcc8"
      },
      "source": [
        "path_to_images = \"/content/dataset\"\n",
        "images_number = get_images_number(path_to_images)\n",
        "sum(images_number)"
      ],
      "execution_count": null,
      "outputs": [
        {
          "output_type": "execute_result",
          "data": {
            "text/plain": [
              "3042"
            ]
          },
          "metadata": {
            "tags": []
          },
          "execution_count": 11
        }
      ]
    },
    {
      "cell_type": "markdown",
      "metadata": {
        "id": "L_-Rs4_u3afE"
      },
      "source": [
        "Load data"
      ]
    },
    {
      "cell_type": "code",
      "metadata": {
        "id": "u7CZVHL0jRmy"
      },
      "source": [
        "def load_data(number_letters, path_to_images):\n",
        "  # get the numbers of each label\n",
        "  images_number = get_images_number(path_to_images)\n",
        "  # create samples array\n",
        "  samples = np.empty((sum(images_number), 32, 32, 3))\n",
        "  letters = []\n",
        "  index = 0\n",
        "  for folder in sorted(glob.glob(path_to_images+'/*')):\n",
        "    label = folder.split('/')[3]\n",
        "    # convert label from str to int\n",
        "    label = ord(label)-ord('A')\n",
        "    \n",
        "    for image_path in sorted(glob.glob(folder+\"/*\")):\n",
        "      # load the image\n",
        "      img = image.load_img(image_path)\n",
        "      # convert the image into array\n",
        "      img = image.img_to_array(img)\n",
        "      # convert the images from RGB to BGR, then will zero-center each color channel with respect to the ImageNet dataset, without scaling.\n",
        "      img = preprocess_input(img)\n",
        "      # save the solved img \n",
        "      samples[index] = img\n",
        "      index += 1\n",
        "      letters.append(label)\n",
        "  return samples, np.array(letters)"
      ],
      "execution_count": null,
      "outputs": []
    },
    {
      "cell_type": "code",
      "metadata": {
        "id": "3a_ruezOj-Jx"
      },
      "source": [
        "samples, letters = load_data(images_number, path_to_images)"
      ],
      "execution_count": null,
      "outputs": []
    },
    {
      "cell_type": "markdown",
      "metadata": {
        "id": "ku3sQwOQ3rm-"
      },
      "source": [
        "Split the dataset"
      ]
    },
    {
      "cell_type": "code",
      "metadata": {
        "id": "1WoBL1bp3K4p"
      },
      "source": [
        "# split dataset into Train, Test, and Validation\n",
        "X_train, X_test, y_train, y_test = train_test_split(\n",
        "  samples, letters, test_size=0.1, random_state=42)\n",
        "\n",
        "X_train, X_val, y_train, y_val = train_test_split(\n",
        "  X_train, y_train, test_size=0.2, random_state=42)"
      ],
      "execution_count": null,
      "outputs": []
    },
    {
      "cell_type": "code",
      "metadata": {
        "colab": {
          "base_uri": "https://localhost:8080/"
        },
        "id": "8V8v1oHV4C9P",
        "outputId": "12254e3f-d93e-4fe7-e426-f41955c788ba"
      },
      "source": [
        "print(X_train.shape[0], 'train samples')\n",
        "print(X_test.shape[0], 'test samples')\n",
        "print(X_val.shape[0], 'val samples')"
      ],
      "execution_count": null,
      "outputs": [
        {
          "output_type": "stream",
          "text": [
            "2189 train samples\n",
            "305 test samples\n",
            "548 val samples\n"
          ],
          "name": "stdout"
        }
      ]
    },
    {
      "cell_type": "markdown",
      "metadata": {
        "id": "TtGBl3k34GnH"
      },
      "source": [
        "Plot some images\n",
        "\n",
        "those images have been zero-center each color channel with respect to the ImageNet dataset, without scaling."
      ]
    },
    {
      "cell_type": "code",
      "metadata": {
        "colab": {
          "base_uri": "https://localhost:8080/",
          "height": 49
        },
        "id": "fMh5aJVS18gt",
        "outputId": "a0095410-c5ca-48d3-d12e-ff6b575d1481"
      },
      "source": [
        "cv2_imshow(X_train[100])"
      ],
      "execution_count": null,
      "outputs": [
        {
          "output_type": "display_data",
          "data": {
            "image/png": "[encoded data removed]",
            "text/plain": [
              "<PIL.Image.Image image mode=RGB size=32x32 at 0x7FBF45186B90>"
            ]
          },
          "metadata": {
            "tags": []
          }
        }
      ]
    },
    {
      "cell_type": "code",
      "metadata": {
        "colab": {
          "base_uri": "https://localhost:8080/",
          "height": 49
        },
        "id": "VZuyTiZJ2Kwc",
        "outputId": "0fead993-43ca-42ca-ce6c-d6681dc3e01f"
      },
      "source": [
        "cv2_imshow(X_test[1])"
      ],
      "execution_count": null,
      "outputs": [
        {
          "output_type": "display_data",
          "data": {
            "image/png": "[encoded data removed]",
            "text/plain": [
              "<PIL.Image.Image image mode=RGB size=32x32 at 0x7FBF451F3810>"
            ]
          },
          "metadata": {
            "tags": []
          }
        }
      ]
    },
    {
      "cell_type": "code",
      "metadata": {
        "colab": {
          "base_uri": "https://localhost:8080/",
          "height": 49
        },
        "id": "XbGdDOc42Ngh",
        "outputId": "9a11e2a0-e112-4433-fdd3-ed620980d772"
      },
      "source": [
        "cv2_imshow(X_val[1])"
      ],
      "execution_count": null,
      "outputs": [
        {
          "output_type": "display_data",
          "data": {
            "image/png": "[encoded data removed]",
            "text/plain": [
              "<PIL.Image.Image image mode=RGB size=32x32 at 0x7FBF451CDE10>"
            ]
          },
          "metadata": {
            "tags": []
          }
        }
      ]
    },
    {
      "cell_type": "code",
      "metadata": {
        "colab": {
          "base_uri": "https://localhost:8080/"
        },
        "id": "KjASicuG4gFp",
        "outputId": "18b780ae-5857-4d75-f5aa-826167e7e31a"
      },
      "source": [
        "X_train[0].shape"
      ],
      "execution_count": null,
      "outputs": [
        {
          "output_type": "execute_result",
          "data": {
            "text/plain": [
              "(32, 32, 3)"
            ]
          },
          "metadata": {
            "tags": []
          },
          "execution_count": 21
        }
      ]
    },
    {
      "cell_type": "markdown",
      "metadata": {
        "id": "V5vu39Ev4ZnR"
      },
      "source": [
        "### Build the basic model\n"
      ]
    },
    {
      "cell_type": "code",
      "metadata": {
        "id": "Hs9eu9Wgsc3R"
      },
      "source": [
        "input_shape = X_train[0].shape\n",
        "vgg_model = VGG19(include_top=False,input_shape=input_shape, weights='imagenet') # Load VGG model and weights"
      ],
      "execution_count": null,
      "outputs": []
    },
    {
      "cell_type": "code",
      "metadata": {
        "colab": {
          "base_uri": "https://localhost:8080/"
        },
        "id": "SEqnNa0HtDOf",
        "outputId": "8fdf9d58-7bc7-43fa-95ab-24c866d95664"
      },
      "source": [
        "vgg_model.input.shape "
      ],
      "execution_count": null,
      "outputs": [
        {
          "output_type": "execute_result",
          "data": {
            "text/plain": [
              "TensorShape([None, 32, 32, 3])"
            ]
          },
          "metadata": {
            "tags": []
          },
          "execution_count": 61
        }
      ]
    },
    {
      "cell_type": "code",
      "metadata": {
        "colab": {
          "base_uri": "https://localhost:8080/"
        },
        "id": "Dy9VUFKYuMsz",
        "outputId": "7dd7aac6-c9c3-47f8-dda9-df44527a2095"
      },
      "source": [
        "vgg_model.output"
      ],
      "execution_count": null,
      "outputs": [
        {
          "output_type": "execute_result",
          "data": {
            "text/plain": [
              "<KerasTensor: shape=(None, 1, 1, 512) dtype=float32 (created by layer 'block5_pool')>"
            ]
          },
          "metadata": {
            "tags": []
          },
          "execution_count": 62
        }
      ]
    },
    {
      "cell_type": "code",
      "metadata": {
        "colab": {
          "base_uri": "https://localhost:8080/"
        },
        "id": "G8DGWzpZtfxm",
        "outputId": "17292a19-5e6b-4574-da38-e4ab2c260b4c"
      },
      "source": [
        "vgg_model.summary()"
      ],
      "execution_count": null,
      "outputs": [
        {
          "output_type": "stream",
          "text": [
            "Model: \"vgg19\"\n",
            "_________________________________________________________________\n",
            "Layer (type)                 Output Shape              Param #   \n",
            "=================================================================\n",
            "input_2 (InputLayer)         [(None, 32, 32, 3)]       0         \n",
            "_________________________________________________________________\n",
            "block1_conv1 (Conv2D)        (None, 32, 32, 64)        1792      \n",
            "_________________________________________________________________\n",
            "block1_conv2 (Conv2D)        (None, 32, 32, 64)        36928     \n",
            "_________________________________________________________________\n",
            "block1_pool (MaxPooling2D)   (None, 16, 16, 64)        0         \n",
            "_________________________________________________________________\n",
            "block2_conv1 (Conv2D)        (None, 16, 16, 128)       73856     \n",
            "_________________________________________________________________\n",
            "block2_conv2 (Conv2D)        (None, 16, 16, 128)       147584    \n",
            "_________________________________________________________________\n",
            "block2_pool (MaxPooling2D)   (None, 8, 8, 128)         0         \n",
            "_________________________________________________________________\n",
            "block3_conv1 (Conv2D)        (None, 8, 8, 256)         295168    \n",
            "_________________________________________________________________\n",
            "block3_conv2 (Conv2D)        (None, 8, 8, 256)         590080    \n",
            "_________________________________________________________________\n",
            "block3_conv3 (Conv2D)        (None, 8, 8, 256)         590080    \n",
            "_________________________________________________________________\n",
            "block3_conv4 (Conv2D)        (None, 8, 8, 256)         590080    \n",
            "_________________________________________________________________\n",
            "block3_pool (MaxPooling2D)   (None, 4, 4, 256)         0         \n",
            "_________________________________________________________________\n",
            "block4_conv1 (Conv2D)        (None, 4, 4, 512)         1180160   \n",
            "_________________________________________________________________\n",
            "block4_conv2 (Conv2D)        (None, 4, 4, 512)         2359808   \n",
            "_________________________________________________________________\n",
            "block4_conv3 (Conv2D)        (None, 4, 4, 512)         2359808   \n",
            "_________________________________________________________________\n",
            "block4_conv4 (Conv2D)        (None, 4, 4, 512)         2359808   \n",
            "_________________________________________________________________\n",
            "block4_pool (MaxPooling2D)   (None, 2, 2, 512)         0         \n",
            "_________________________________________________________________\n",
            "block5_conv1 (Conv2D)        (None, 2, 2, 512)         2359808   \n",
            "_________________________________________________________________\n",
            "block5_conv2 (Conv2D)        (None, 2, 2, 512)         2359808   \n",
            "_________________________________________________________________\n",
            "block5_conv3 (Conv2D)        (None, 2, 2, 512)         2359808   \n",
            "_________________________________________________________________\n",
            "block5_conv4 (Conv2D)        (None, 2, 2, 512)         2359808   \n",
            "_________________________________________________________________\n",
            "block5_pool (MaxPooling2D)   (None, 1, 1, 512)         0         \n",
            "=================================================================\n",
            "Total params: 20,024,384\n",
            "Trainable params: 20,024,384\n",
            "Non-trainable params: 0\n",
            "_________________________________________________________________\n"
          ],
          "name": "stdout"
        }
      ]
    },
    {
      "cell_type": "markdown",
      "metadata": {
        "id": "P-qECh3x7dLf"
      },
      "source": [
        "not change the frozen layer weights"
      ]
    },
    {
      "cell_type": "code",
      "metadata": {
        "id": "ZRgt1sBp7gq-"
      },
      "source": [
        "# mark loaded layers as not trainable\n",
        "for layer in vgg_model.layers:\n",
        "\tlayer.trainable = False"
      ],
      "execution_count": null,
      "outputs": []
    },
    {
      "cell_type": "markdown",
      "metadata": {
        "id": "QGnF4Q49FDPH"
      },
      "source": [
        "using vgg to extract the images features"
      ]
    },
    {
      "cell_type": "code",
      "metadata": {
        "id": "vXjIO97o4xfM"
      },
      "source": [
        "output_feats = vgg_model.predict(X_test)"
      ],
      "execution_count": null,
      "outputs": []
    },
    {
      "cell_type": "code",
      "metadata": {
        "colab": {
          "base_uri": "https://localhost:8080/"
        },
        "id": "R2gI9h2WFMEu",
        "outputId": "38163c77-a5f5-40cf-81bd-d92fd51c0682"
      },
      "source": [
        "output_feats[0]"
      ],
      "execution_count": null,
      "outputs": [
        {
          "output_type": "execute_result",
          "data": {
            "text/plain": [
              "array([[[ 0.       ,  0.       ,  0.       ,  0.       ,  1.4489092,\n",
              "          0.       ,  0.       ,  0.       ,  0.       ,  0.       ,\n",
              "          0.       ,  0.       ,  0.       ,  0.       ,  0.       ,\n",
              "          0.       ,  0.       ,  0.       ,  0.       ,  0.       ,\n",
              "          0.       ,  0.       ,  0.       ,  0.       ,  0.       ,\n",
              "          0.       , 10.604821 ,  0.       ,  0.       ,  2.6875823,\n",
              "          0.       , 31.02271  ,  2.571641 ,  0.       ,  0.       ,\n",
              "          0.       ,  0.       ,  0.       ,  0.       , 26.347258 ,\n",
              "          0.       ,  0.       ,  7.2369356,  0.       ,  0.       ,\n",
              "          0.       ,  0.       ,  0.       ,  0.       ,  0.       ,\n",
              "          0.       ,  0.       ,  4.4908605,  0.       ,  0.       ,\n",
              "          3.3679817,  0.       ,  3.0042799, 24.773682 ,  0.       ,\n",
              "          0.       ,  8.522136 , 21.77106  ,  0.       ,  0.       ,\n",
              "          0.       ,  0.       , 17.049944 ,  0.       ,  6.716171 ,\n",
              "         30.381544 ,  0.       ,  0.       ,  0.       ,  5.517113 ,\n",
              "          0.       ,  0.       ,  0.       ,  0.       ,  0.       ,\n",
              "          0.5812205,  0.       ,  0.       ,  0.       ,  0.       ,\n",
              "          0.       ,  0.       ,  0.       ,  0.       ,  0.       ,\n",
              "          0.       ,  0.       ,  0.       ,  0.       ,  2.2601714,\n",
              "          0.       ,  0.       ,  0.       ,  0.       ,  0.       ,\n",
              "          0.       ,  0.       ,  0.       ,  3.539622 ,  0.       ,\n",
              "          0.       , 25.465271 ,  0.       ,  3.3750644,  6.0497828,\n",
              "          0.       ,  0.       ,  0.       ,  0.       ,  0.       ,\n",
              "         12.782969 ,  0.       , 23.693247 ,  0.       ,  0.       ,\n",
              "         23.83565  ,  0.       ,  0.       ,  0.       ,  0.       ,\n",
              "          0.       ,  0.       ,  0.       ,  0.       ,  0.       ,\n",
              "          0.       ,  0.       ,  0.       ,  0.       ,  0.       ,\n",
              "          0.       ,  0.       ,  0.       , 23.87272  , 23.618572 ,\n",
              "          0.       , 30.991291 ,  0.       ,  0.       ,  0.       ,\n",
              "          0.       ,  0.       ,  0.       ,  0.       ,  0.       ,\n",
              "          0.       ,  0.       ,  0.       ,  0.       ,  8.390394 ,\n",
              "          0.       , 16.212177 ,  8.036752 ,  0.       ,  0.       ,\n",
              "          0.       ,  0.       ,  0.       ,  0.       ,  0.       ,\n",
              "          1.0437726,  0.       ,  0.       ,  9.66523  ,  0.       ,\n",
              "          0.       ,  0.       ,  0.       ,  0.       ,  0.       ,\n",
              "          0.       ,  0.       ,  0.       ,  0.       ,  4.2133822,\n",
              "          0.       ,  7.8116035,  0.       ,  0.       ,  0.       ,\n",
              "          0.       ,  0.       ,  2.2690616,  0.       , 29.441948 ,\n",
              "          0.       ,  0.       ,  0.       ,  0.       ,  9.752682 ,\n",
              "          0.       ,  0.       ,  0.       ,  0.       ,  0.       ,\n",
              "          0.       ,  0.       ,  9.593495 ,  0.       ,  0.       ,\n",
              "          0.       ,  0.       ,  0.       ,  0.       ,  0.       ,\n",
              "         15.677515 ,  0.       ,  0.       ,  0.       ,  0.       ,\n",
              "          0.       , 10.854446 ,  0.       ,  0.       ,  0.       ,\n",
              "          1.693808 ,  0.       ,  0.       ,  0.       ,  0.       ,\n",
              "          0.       ,  0.       ,  0.       ,  0.       ,  0.       ,\n",
              "          0.       ,  5.073982 ,  0.       ,  0.       ,  0.       ,\n",
              "          3.4632277,  0.       ,  0.       ,  5.964913 ,  0.       ,\n",
              "          5.512774 , 17.724203 ,  0.       ,  0.       ,  0.       ,\n",
              "          0.       ,  0.       , 17.153297 ,  0.       ,  0.       ,\n",
              "          0.       ,  0.       ,  0.       ,  0.       ,  0.       ,\n",
              "          0.       ,  8.410919 ,  6.8972197,  0.       ,  0.       ,\n",
              "          0.       , 25.662815 ,  0.       , 65.05828  ,  0.       ,\n",
              "          0.       ,  3.3942168,  6.893547 , 19.25432  ,  0.       ,\n",
              "          0.       ,  0.857468 ,  0.       ,  0.       ,  0.       ,\n",
              "          0.       ,  0.       ,  0.       ,  6.207389 , 16.062109 ,\n",
              "          0.       ,  0.       ,  2.862383 ,  0.       ,  0.       ,\n",
              "          0.       ,  0.       ,  0.       ,  0.       ,  0.       ,\n",
              "          0.       ,  0.       ,  0.       ,  3.6429577,  5.0028462,\n",
              "          0.       ,  0.       ,  0.       , 16.844408 ,  0.       ,\n",
              "          0.       ,  0.       ,  0.       ,  0.       ,  0.       ,\n",
              "          0.       ,  0.       ,  0.       ,  0.       , 27.090935 ,\n",
              "          0.       ,  0.       ,  0.       ,  0.       ,  0.       ,\n",
              "          6.251541 , 34.358982 ,  6.9135704,  0.       ,  0.       ,\n",
              "          0.       ,  0.       ,  0.       ,  0.       ,  5.299563 ,\n",
              "          0.       ,  9.659506 ,  0.       ,  0.       ,  0.       ,\n",
              "          0.       ,  4.240289 ,  0.       ,  0.       ,  0.       ,\n",
              "          0.       , 10.459721 ,  0.       ,  3.30336  ,  0.       ,\n",
              "          0.       ,  8.386112 ,  0.       ,  9.9952545,  0.       ,\n",
              "          0.       ,  0.       ,  0.       ,  0.       ,  0.       ,\n",
              "         14.743559 ,  0.       ,  0.       , 12.533264 ,  5.0275626,\n",
              "          0.       ,  0.       ,  0.       , 37.989388 ,  0.       ,\n",
              "         13.770673 ,  0.       ,  7.103961 ,  0.       ,  0.       ,\n",
              "          0.       ,  0.       ,  0.       ,  0.       ,  0.       ,\n",
              "         16.952137 ,  1.6699754,  0.       ,  0.       ,  0.       ,\n",
              "          0.       ,  0.       ,  0.       ,  3.3138335,  0.       ,\n",
              "          6.5748878,  0.       ,  0.       ,  0.       ,  0.       ,\n",
              "          0.       ,  0.       ,  0.       ,  0.       ,  0.       ,\n",
              "          0.       ,  0.       ,  0.       ,  0.       ,  0.       ,\n",
              "          0.       , 11.470108 ,  3.3406215, 13.077113 ,  0.       ,\n",
              "          0.       ,  6.7474246, 16.730669 ,  0.       ,  0.       ,\n",
              "          0.       ,  0.       ,  2.2790105,  0.       ,  7.056579 ,\n",
              "          0.       ,  0.       ,  0.       ,  0.       ,  0.       ,\n",
              "          9.27394  ,  0.       ,  0.       ,  0.       ,  0.       ,\n",
              "          0.       ,  4.8949184,  0.       ,  0.       ,  0.       ,\n",
              "          0.       ,  0.       ,  0.       ,  0.       ,  0.       ,\n",
              "          3.1656723,  4.209379 ,  2.9511333,  0.       ,  0.       ,\n",
              "          0.       ,  0.       ,  0.       ,  0.       ,  0.       ,\n",
              "          0.       ,  0.       ,  0.       ,  0.       ,  0.       ,\n",
              "          0.       ,  9.485283 ,  0.       ,  3.6432533,  0.       ,\n",
              "          0.       ,  0.       ,  0.       ,  0.       ,  0.8831842,\n",
              "          0.       ,  2.753364 ,  0.       ,  0.       ,  0.       ,\n",
              "          0.       ,  0.       ,  0.       ,  7.021107 ,  0.       ,\n",
              "          0.       ,  0.       ,  0.       ,  0.       ,  7.397826 ,\n",
              "          0.       , 23.23451  , 13.726464 ,  0.       ,  0.       ,\n",
              "         25.115429 ,  0.       ,  0.       ,  0.       ,  0.       ,\n",
              "          0.       ,  0.       ,  0.       ,  0.       , 42.636196 ,\n",
              "          0.       , 21.834505 ,  0.       ,  0.       ,  8.841872 ,\n",
              "          0.       ,  0.       , 23.317364 ,  0.       ,  0.       ,\n",
              "          0.       , 17.925781 ,  0.       ,  0.       ,  0.       ,\n",
              "          0.       ,  0.       ,  0.       ,  0.       ,  0.       ,\n",
              "         14.868065 , 10.925435 ,  0.       ,  2.2222736,  0.       ,\n",
              "          0.       ,  0.       ]]], dtype=float32)"
            ]
          },
          "metadata": {
            "tags": []
          },
          "execution_count": 66
        }
      ]
    },
    {
      "cell_type": "code",
      "metadata": {
        "colab": {
          "base_uri": "https://localhost:8080/"
        },
        "id": "KfOKvfbHFPbv",
        "outputId": "c19a2143-2600-4e13-d327-9988b407d5b0"
      },
      "source": [
        "output_feats.shape"
      ],
      "execution_count": null,
      "outputs": [
        {
          "output_type": "execute_result",
          "data": {
            "text/plain": [
              "(305, 1, 1, 512)"
            ]
          },
          "metadata": {
            "tags": []
          },
          "execution_count": 67
        }
      ]
    },
    {
      "cell_type": "markdown",
      "metadata": {
        "id": "fPM-jwJm5EMU"
      },
      "source": [
        "### Build the model adding classified layer\n"
      ]
    },
    {
      "cell_type": "code",
      "metadata": {
        "colab": {
          "base_uri": "https://localhost:8080/"
        },
        "id": "ek6vPH4s5KFj",
        "outputId": "93b34a34-e0a9-4360-d341-7ce4e91618a0"
      },
      "source": [
        "vgg_model.output"
      ],
      "execution_count": null,
      "outputs": [
        {
          "output_type": "execute_result",
          "data": {
            "text/plain": [
              "<KerasTensor: shape=(None, 1, 1, 512) dtype=float32 (created by layer 'block5_pool')>"
            ]
          },
          "metadata": {
            "tags": []
          },
          "execution_count": 68
        }
      ]
    },
    {
      "cell_type": "code",
      "metadata": {
        "colab": {
          "base_uri": "https://localhost:8080/"
        },
        "id": "ty-hIUnT5OQk",
        "outputId": "b43e4084-32e0-4c36-8287-30bdfb48f5b7"
      },
      "source": [
        "# add new classifier layers\n",
        "flat1 = Flatten()(vgg_model.output)\n",
        "fc1 = Dense(1024, activation='relu')(flat1)\n",
        "# activation = \"sigmoid\" -> multiple labels\n",
        "output = Dense(3, activation='softmax')(fc1)\n",
        "output"
      ],
      "execution_count": null,
      "outputs": [
        {
          "output_type": "execute_result",
          "data": {
            "text/plain": [
              "<KerasTensor: shape=(None, 3) dtype=float32 (created by layer 'dense_7')>"
            ]
          },
          "metadata": {
            "tags": []
          },
          "execution_count": 81
        }
      ]
    },
    {
      "cell_type": "code",
      "metadata": {
        "id": "wH5ROaWR5VJF"
      },
      "source": [
        "classified_model = Model(inputs=vgg_model.input, outputs=output) "
      ],
      "execution_count": null,
      "outputs": []
    },
    {
      "cell_type": "code",
      "metadata": {
        "colab": {
          "base_uri": "https://localhost:8080/"
        },
        "id": "iIVzPK9A5bAp",
        "outputId": "2cda0cef-51ea-4709-a78e-9cfa9cdfa0c8"
      },
      "source": [
        "classified_model.summary()"
      ],
      "execution_count": null,
      "outputs": [
        {
          "output_type": "stream",
          "text": [
            "Model: \"model_2\"\n",
            "_________________________________________________________________\n",
            "Layer (type)                 Output Shape              Param #   \n",
            "=================================================================\n",
            "input_2 (InputLayer)         [(None, 32, 32, 3)]       0         \n",
            "_________________________________________________________________\n",
            "block1_conv1 (Conv2D)        (None, 32, 32, 64)        1792      \n",
            "_________________________________________________________________\n",
            "block1_conv2 (Conv2D)        (None, 32, 32, 64)        36928     \n",
            "_________________________________________________________________\n",
            "block1_pool (MaxPooling2D)   (None, 16, 16, 64)        0         \n",
            "_________________________________________________________________\n",
            "block2_conv1 (Conv2D)        (None, 16, 16, 128)       73856     \n",
            "_________________________________________________________________\n",
            "block2_conv2 (Conv2D)        (None, 16, 16, 128)       147584    \n",
            "_________________________________________________________________\n",
            "block2_pool (MaxPooling2D)   (None, 8, 8, 128)         0         \n",
            "_________________________________________________________________\n",
            "block3_conv1 (Conv2D)        (None, 8, 8, 256)         295168    \n",
            "_________________________________________________________________\n",
            "block3_conv2 (Conv2D)        (None, 8, 8, 256)         590080    \n",
            "_________________________________________________________________\n",
            "block3_conv3 (Conv2D)        (None, 8, 8, 256)         590080    \n",
            "_________________________________________________________________\n",
            "block3_conv4 (Conv2D)        (None, 8, 8, 256)         590080    \n",
            "_________________________________________________________________\n",
            "block3_pool (MaxPooling2D)   (None, 4, 4, 256)         0         \n",
            "_________________________________________________________________\n",
            "block4_conv1 (Conv2D)        (None, 4, 4, 512)         1180160   \n",
            "_________________________________________________________________\n",
            "block4_conv2 (Conv2D)        (None, 4, 4, 512)         2359808   \n",
            "_________________________________________________________________\n",
            "block4_conv3 (Conv2D)        (None, 4, 4, 512)         2359808   \n",
            "_________________________________________________________________\n",
            "block4_conv4 (Conv2D)        (None, 4, 4, 512)         2359808   \n",
            "_________________________________________________________________\n",
            "block4_pool (MaxPooling2D)   (None, 2, 2, 512)         0         \n",
            "_________________________________________________________________\n",
            "block5_conv1 (Conv2D)        (None, 2, 2, 512)         2359808   \n",
            "_________________________________________________________________\n",
            "block5_conv2 (Conv2D)        (None, 2, 2, 512)         2359808   \n",
            "_________________________________________________________________\n",
            "block5_conv3 (Conv2D)        (None, 2, 2, 512)         2359808   \n",
            "_________________________________________________________________\n",
            "block5_conv4 (Conv2D)        (None, 2, 2, 512)         2359808   \n",
            "_________________________________________________________________\n",
            "block5_pool (MaxPooling2D)   (None, 1, 1, 512)         0         \n",
            "_________________________________________________________________\n",
            "flatten_3 (Flatten)          (None, 512)               0         \n",
            "_________________________________________________________________\n",
            "dense_6 (Dense)              (None, 1024)              525312    \n",
            "_________________________________________________________________\n",
            "dense_7 (Dense)              (None, 3)                 3075      \n",
            "=================================================================\n",
            "Total params: 20,552,771\n",
            "Trainable params: 528,387\n",
            "Non-trainable params: 20,024,384\n",
            "_________________________________________________________________\n"
          ],
          "name": "stdout"
        }
      ]
    },
    {
      "cell_type": "markdown",
      "metadata": {
        "id": "8h0q7doG5fC9"
      },
      "source": [
        "#### Compile the model and train the model"
      ]
    },
    {
      "cell_type": "code",
      "metadata": {
        "id": "mtYWSxFZ5eYD"
      },
      "source": [
        "classified_model.compile(loss='categorical_crossentropy',\n",
        "              optimizer='adam',\n",
        "              metrics=['accuracy'])"
      ],
      "execution_count": null,
      "outputs": []
    },
    {
      "cell_type": "markdown",
      "metadata": {
        "id": "DuekSUd66Kmu"
      },
      "source": [
        "Change the shape of labels to fit the output layer size"
      ]
    },
    {
      "cell_type": "code",
      "metadata": {
        "id": "m723WgG46QPh"
      },
      "source": [
        "num_classes = 3\n",
        "# convert class vectors to binary class matrices\n",
        "y_train = keras.utils.to_categorical(y_train, num_classes)\n",
        "y_val = keras.utils.to_categorical(y_val, num_classes)"
      ],
      "execution_count": null,
      "outputs": []
    },
    {
      "cell_type": "code",
      "metadata": {
        "colab": {
          "base_uri": "https://localhost:8080/"
        },
        "id": "dLYpnuWc6Zyi",
        "outputId": "50615427-3fe2-4fae-fee9-866ef7aa7a4d"
      },
      "source": [
        "y_train.shape"
      ],
      "execution_count": null,
      "outputs": [
        {
          "output_type": "execute_result",
          "data": {
            "text/plain": [
              "(2189, 3)"
            ]
          },
          "metadata": {
            "tags": []
          },
          "execution_count": 36
        }
      ]
    },
    {
      "cell_type": "code",
      "metadata": {
        "colab": {
          "base_uri": "https://localhost:8080/"
        },
        "id": "W6WzUlcG6cEG",
        "outputId": "e3a48277-ceeb-4450-d522-a986b5237129"
      },
      "source": [
        "y_train[0]"
      ],
      "execution_count": null,
      "outputs": [
        {
          "output_type": "execute_result",
          "data": {
            "text/plain": [
              "array([0., 0., 1.], dtype=float32)"
            ]
          },
          "metadata": {
            "tags": []
          },
          "execution_count": 37
        }
      ]
    },
    {
      "cell_type": "markdown",
      "metadata": {
        "id": "V_Mno3nM6rST"
      },
      "source": [
        "Train the model"
      ]
    },
    {
      "cell_type": "code",
      "metadata": {
        "colab": {
          "base_uri": "https://localhost:8080/"
        },
        "id": "PoHYPTmt5_H5",
        "outputId": "e20ec804-1c65-4f7d-8c7a-1c3a18ae32cb"
      },
      "source": [
        "epochs =5\n",
        "history = classified_model.fit(X_train, y_train,\n",
        "                    epochs=epochs,\n",
        "                    verbose=1,\n",
        "                    validation_data=(X_val, y_val)\n",
        "                    )"
      ],
      "execution_count": null,
      "outputs": [
        {
          "output_type": "stream",
          "text": [
            "Epoch 1/5\n",
            "69/69 [==============================] - 22s 317ms/step - loss: 1.4030 - accuracy: 0.8148 - val_loss: 0.0340 - val_accuracy: 0.9909\n",
            "Epoch 2/5\n",
            "69/69 [==============================] - 22s 314ms/step - loss: 0.0361 - accuracy: 0.9914 - val_loss: 0.0835 - val_accuracy: 0.9872\n",
            "Epoch 3/5\n",
            "69/69 [==============================] - 22s 315ms/step - loss: 0.0225 - accuracy: 0.9919 - val_loss: 0.0259 - val_accuracy: 0.9945\n",
            "Epoch 4/5\n",
            "69/69 [==============================] - 22s 315ms/step - loss: 0.0253 - accuracy: 0.9935 - val_loss: 0.1299 - val_accuracy: 0.9799\n",
            "Epoch 5/5\n",
            "69/69 [==============================] - 22s 316ms/step - loss: 0.0184 - accuracy: 0.9957 - val_loss: 0.0407 - val_accuracy: 0.9891\n"
          ],
          "name": "stdout"
        }
      ]
    },
    {
      "cell_type": "code",
      "metadata": {
        "colab": {
          "base_uri": "https://localhost:8080/"
        },
        "id": "FMiytI1Q8LsQ",
        "outputId": "3594baa4-85dd-4740-d28d-337f55010fd3"
      },
      "source": [
        "score = classified_model.evaluate(X_val, y_val, verbose=0)\n",
        "print('Validation loss:', score[0])\n",
        "print('Validation accuracy:', score[1])"
      ],
      "execution_count": null,
      "outputs": [
        {
          "output_type": "stream",
          "text": [
            "Validation loss: 0.0407368466258049\n",
            "Validation accuracy: 0.989051103591919\n"
          ],
          "name": "stdout"
        }
      ]
    },
    {
      "cell_type": "code",
      "metadata": {
        "colab": {
          "base_uri": "https://localhost:8080/",
          "height": 352
        },
        "id": "jKRy-vyM8ZGF",
        "outputId": "2eaa16e6-668a-427e-e70d-80fd3351e3a9"
      },
      "source": [
        "plt.figure(figsize=(10,5))\n",
        "\n",
        "plt.subplot(1,2,1)\n",
        "plt.plot(history.history['accuracy'], label='train accuracy')\n",
        "plt.plot(history.history['val_accuracy'], label = 'val accuracy')\n",
        "plt.xlabel('Epoch')\n",
        "plt.ylabel('Accuracy')\n",
        "plt.legend(loc='lower right')\n",
        "plt.subplot(1,2,2)\n",
        "plt.plot(history.history['loss'], label='train loss')\n",
        "plt.plot(history.history['val_loss'], label = 'val loss')\n",
        "plt.xlabel('Epoch')\n",
        "plt.ylabel('Loss')\n",
        "plt.legend(loc='lower right')"
      ],
      "execution_count": null,
      "outputs": [
        {
          "output_type": "execute_result",
          "data": {
            "text/plain": [
              "<matplotlib.legend.Legend at 0x7fbf3e27e310>"
            ]
          },
          "metadata": {
            "tags": []
          },
          "execution_count": 40
        },
        {
          "output_type": "display_data",
          "data": {
            "image/png": "[encoded data removed]",
            "text/plain": [
              "<Figure size 720x360 with 2 Axes>"
            ]
          },
          "metadata": {
            "tags": [],
            "needs_background": "light"
          }
        }
      ]
    },
    {
      "cell_type": "markdown",
      "metadata": {
        "id": "fIN_yP96Z7Oo"
      },
      "source": [
        "### Prediction"
      ]
    },
    {
      "cell_type": "code",
      "metadata": {
        "id": "jDSBmQVx8vnT"
      },
      "source": [
        "prediction = classified_model.predict(X_test)"
      ],
      "execution_count": null,
      "outputs": []
    },
    {
      "cell_type": "code",
      "metadata": {
        "colab": {
          "base_uri": "https://localhost:8080/"
        },
        "id": "-LnKy_yM88_0",
        "outputId": "ce09d0bb-6915-4eb2-9ea1-975ffba02140"
      },
      "source": [
        "y_pred = [x.argmax() for x in prediction]\n",
        "confusion_matrix(y_test, y_pred)"
      ],
      "execution_count": null,
      "outputs": [
        {
          "output_type": "execute_result",
          "data": {
            "text/plain": [
              "array([[115,   0,   0],\n",
              "       [  1,  92,   0],\n",
              "       [  1,   0,  96]])"
            ]
          },
          "metadata": {
            "tags": []
          },
          "execution_count": 42
        }
      ]
    },
    {
      "cell_type": "code",
      "metadata": {
        "colab": {
          "base_uri": "https://localhost:8080/"
        },
        "id": "eHkXz6n4p_7e",
        "outputId": "a7d1e330-058c-4c61-b0ef-3249ea8b02bb"
      },
      "source": [
        "prediction[1]"
      ],
      "execution_count": null,
      "outputs": [
        {
          "output_type": "execute_result",
          "data": {
            "text/plain": [
              "array([1.3633745e-12, 1.1782034e-10, 1.0000000e+00], dtype=float32)"
            ]
          },
          "metadata": {
            "tags": []
          },
          "execution_count": 46
        }
      ]
    },
    {
      "cell_type": "code",
      "metadata": {
        "colab": {
          "base_uri": "https://localhost:8080/"
        },
        "id": "YeAC913xqujz",
        "outputId": "5c9fe7c4-67f4-40ec-dc1a-cff377b4c6ef"
      },
      "source": [
        "X_val[0:3].shape"
      ],
      "execution_count": null,
      "outputs": [
        {
          "output_type": "execute_result",
          "data": {
            "text/plain": [
              "(3, 32, 32, 3)"
            ]
          },
          "metadata": {
            "tags": []
          },
          "execution_count": 50
        }
      ]
    },
    {
      "cell_type": "code",
      "metadata": {
        "id": "hYEZ-h7cq-nA"
      },
      "source": [
        "new_output = np.array([[1,1,0],\n",
        "                        [1,1,1],\n",
        "                        [1,0,1]])"
      ],
      "execution_count": null,
      "outputs": []
    },
    {
      "cell_type": "code",
      "metadata": {
        "colab": {
          "base_uri": "https://localhost:8080/"
        },
        "id": "i4OrhaC0rLZ1",
        "outputId": "004f6c59-07c6-4af2-caae-377c7fb98b12"
      },
      "source": [
        "new_output.shape"
      ],
      "execution_count": null,
      "outputs": [
        {
          "output_type": "execute_result",
          "data": {
            "text/plain": [
              "(3, 3)"
            ]
          },
          "metadata": {
            "tags": []
          },
          "execution_count": 57
        }
      ]
    },
    {
      "cell_type": "code",
      "metadata": {
        "colab": {
          "base_uri": "https://localhost:8080/"
        },
        "id": "fGXA1Vrpqb0m",
        "outputId": "0e6264ce-b42b-4b25-d5b1-205f3a39aecc"
      },
      "source": [
        "classified_model.fit(X_val[0:3], new_output)"
      ],
      "execution_count": null,
      "outputs": [
        {
          "output_type": "stream",
          "text": [
            "1/1 [==============================] - 1s 655ms/step - loss: 4.8765 - accuracy: 0.3333\n"
          ],
          "name": "stdout"
        },
        {
          "output_type": "execute_result",
          "data": {
            "text/plain": [
              "<tensorflow.python.keras.callbacks.History at 0x7fbf383733d0>"
            ]
          },
          "metadata": {
            "tags": []
          },
          "execution_count": 85
        }
      ]
    },
    {
      "cell_type": "code",
      "metadata": {
        "id": "Nxn-Zq6orPMY"
      },
      "source": [
        "pred = classified_model.predict(X_val[0:3])"
      ],
      "execution_count": null,
      "outputs": []
    },
    {
      "cell_type": "code",
      "metadata": {
        "colab": {
          "base_uri": "https://localhost:8080/"
        },
        "id": "vNLV9SffrT1A",
        "outputId": "9725c424-df15-469a-96f4-a85e3c33f82b"
      },
      "source": [
        "pred[0]"
      ],
      "execution_count": null,
      "outputs": [
        {
          "output_type": "execute_result",
          "data": {
            "text/plain": [
              "array([0.9999273 , 1.        , 0.16636792], dtype=float32)"
            ]
          },
          "metadata": {
            "tags": []
          },
          "execution_count": 88
        }
      ]
    },
    {
      "cell_type": "code",
      "metadata": {
        "id": "sPbSsQInriNp"
      },
      "source": [
        ""
      ],
      "execution_count": null,
      "outputs": []
    }
  ]
}