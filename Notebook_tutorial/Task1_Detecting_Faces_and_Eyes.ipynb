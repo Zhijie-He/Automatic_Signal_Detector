{
  "nbformat": 4,
  "nbformat_minor": 0,
  "metadata": {
    "colab": {
      "name": "Task1:Detecting Faces and Eyes",
      "provenance": [],
      "collapsed_sections": []
    },
    "kernelspec": {
      "name": "python3",
      "display_name": "Python 3"
    }
  },
  "cells": [
    {
      "cell_type": "markdown",
      "metadata": {
        "id": "p44I5Z8O-P8I"
      },
      "source": [
        "### Task1:Detecting Faces and Eyes\n",
        "Use Haar Cascades to dectect your faces and eyes"
      ]
    },
    {
      "cell_type": "markdown",
      "metadata": {
        "id": "fsKtjckA-Vmu"
      },
      "source": [
        "Import necessary libraries"
      ]
    },
    {
      "cell_type": "code",
      "metadata": {
        "id": "nBGf6xh4Hg2K"
      },
      "source": [
        "#Use Javascript code to call your local webcam\n",
        "from IPython.display import display, Javascript\n",
        "from google.colab.output import eval_js\n",
        "#Convert the image type that captured by webcam\n",
        "from base64 import b64decode, b64encode\n",
        "\n",
        "import numpy as np\n",
        "from PIL import Image\n",
        "\n",
        "import io\n",
        "import cv2 # OpenCV library "
      ],
      "execution_count": 5,
      "outputs": []
    },
    {
      "cell_type": "markdown",
      "metadata": {
        "id": "T3j99SNc_Dbk"
      },
      "source": [
        "JavaScript Code to call local WebCam and the image type is base64"
      ]
    },
    {
      "cell_type": "code",
      "metadata": {
        "id": "XS0UfPTMIAjH"
      },
      "source": [
        "from google.colab.output import eval_js\n",
        "\n",
        "def VideoCapture():\n",
        "  js = Javascript('''\n",
        "    async function create(){\n",
        "      div = document.createElement('div');\n",
        "      document.body.appendChild(div);\n",
        "\n",
        "      video = document.createElement('video');\n",
        "      video.setAttribute('playsinline', '');\n",
        "\n",
        "      div.appendChild(video);\n",
        "      stream = await navigator.mediaDevices.getUserMedia({video: {facingMode: \"environment\"}});\n",
        "      video.srcObject = stream;\n",
        "\n",
        "      await video.play();\n",
        "\n",
        "      canvas =  document.createElement('canvas');\n",
        "      canvas.width = video.videoWidth;\n",
        "      canvas.height = video.videoHeight;\n",
        "      canvas.getContext('2d').drawImage(video, 0, 0);\n",
        "\n",
        "      div_out = document.createElement('div');\n",
        "      document.body.appendChild(div_out);\n",
        "      img = document.createElement('img');\n",
        "      div_out.appendChild(img);\n",
        "    }\n",
        "\n",
        "    async function capture(){\n",
        "        return await new Promise(function(resolve, reject){\n",
        "            pendingResolve = resolve;\n",
        "            canvas.getContext('2d').drawImage(video, 0, 0);\n",
        "            result = canvas.toDataURL('image/jpeg', 0.30);\n",
        "\n",
        "            pendingResolve(result);\n",
        "        })\n",
        "    }\n",
        "\n",
        "    function showimg(imgb64){\n",
        "        img.src = \"data:image/jpg;base64,\" + imgb64;\n",
        "    }\n",
        "\n",
        "  ''')\n",
        "  display(js)"
      ],
      "execution_count": 6,
      "outputs": []
    },
    {
      "cell_type": "markdown",
      "metadata": {
        "id": "RdJpJt3R_ULm"
      },
      "source": [
        "Define the Image Conversion function to convert photo type \n",
        "\n",
        "For VideoCapture functions return images with base64 type\n",
        "\n",
        "For cv2 need images with bytes type"
      ]
    },
    {
      "cell_type": "code",
      "metadata": {
        "id": "xRSMs81vI1kW"
      },
      "source": [
        "def b64_to_bytes(byte):\n",
        "  jpeg = b64decode(byte.split(',')[1])\n",
        "  im = Image.open(io.BytesIO(jpeg))\n",
        "  return np.array(im)\n",
        "\n",
        "def bytes_to_b64(image):\n",
        "  image = Image.fromarray(image)\n",
        "  buffer = io.BytesIO()\n",
        "  image.save(buffer, 'jpeg')\n",
        "  buffer.seek(0)\n",
        "  x = b64encode(buffer.read()).decode('utf-8')\n",
        "  return x"
      ],
      "execution_count": 7,
      "outputs": []
    },
    {
      "cell_type": "markdown",
      "metadata": {
        "id": "MQF4W0bbAMkP"
      },
      "source": [
        "The haar cascades files are in Google drive"
      ]
    },
    {
      "cell_type": "code",
      "metadata": {
        "colab": {
          "base_uri": "https://localhost:8080/"
        },
        "id": "LzoxP1NYVUrh",
        "outputId": "d7fad8ca-9fdf-42e8-d80c-4c304f6498f8"
      },
      "source": [
        "from google.colab import drive\n",
        "drive.mount(\"/content/drive\")"
      ],
      "execution_count": 8,
      "outputs": [
        {
          "output_type": "stream",
          "text": [
            "Drive already mounted at /content/drive; to attempt to forcibly remount, call drive.mount(\"/content/drive\", force_remount=True).\n"
          ],
          "name": "stdout"
        }
      ]
    },
    {
      "cell_type": "code",
      "metadata": {
        "id": "pvm1YoLZKNow"
      },
      "source": [
        "# Load cascades using cv2.CascadeClassifier\n",
        "faces_cascade = cv2.CascadeClassifier(\"/content/drive/MyDrive/Computer_Vision/haarcascade_frontalface_default.xml\")\n",
        "eyes_cascade = cv2.CascadeClassifier(\"/content/drive/MyDrive/Computer_Vision/haarcascade_eye.xml\")"
      ],
      "execution_count": 9,
      "outputs": []
    },
    {
      "cell_type": "code",
      "metadata": {
        "id": "8aKUgL33DS7J"
      },
      "source": [
        "VideoCapture()\n",
        "# call the local camera to capture\n",
        "eval_js('create()')\n",
        "\n",
        "while True:\n",
        "  b64_im = eval_js('capture()') # Take a capture \n",
        "  im = b64_to_bytes(b64_im) # Convert the capture brom base64 to bytes array\n",
        "  \n",
        "  # convert the image into gray scale\n",
        "  gray = cv2.cvtColor(im,cv2.COLOR_BGR2GRAY)\n",
        "\n",
        "  # detect faces which is a array(bottom left point x , y, faces width, faces height). Here we may detect multiple faces, so we use for loop to draw all of them\n",
        "  faces = faces_cascade.detectMultiScale(gray, 1.3, 4)\n",
        "  # loop faces array to draw rectangle\n",
        "  for (x, y, w, h) in faces: \n",
        "    # draw a rectangle around the face\n",
        "    cv2.rectangle(im,(x,y),(x+w,y+h),(0,255,0),2)\n",
        "    # retrive th face sub region (gray and colored)\n",
        "    # here dont be conused with the order of x and y\n",
        "    # think the array slice, first is rows, and second is columns\n",
        "    face_roi_gray = gray[y:y+h, x:x+w]\n",
        "    face_roi_im = im[y:y+h, x:x+w]\n",
        "\n",
        "    # detect eyes\n",
        "    eyes = eyes_cascade.detectMultiScale(face_roi_gray, 1.3, 4)\n",
        "    for(e_x,e_y,e_w,e_h)in eyes:\n",
        "      #draw a rectangle around each eye\n",
        "      cv2.rectangle(face_roi_im,(e_x,e_y),(e_x+e_w,e_y+e_h),(255,0,0),2)\n",
        "\n",
        "  eval_js('showimg(\"{}\")'.format(bytes_to_b64(im)))"
      ],
      "execution_count": null,
      "outputs": []
    },
    {
      "cell_type": "code",
      "metadata": {
        "id": "s1VxBmm3Wyxo"
      },
      "source": [
        ""
      ],
      "execution_count": null,
      "outputs": []
    }
  ]
}