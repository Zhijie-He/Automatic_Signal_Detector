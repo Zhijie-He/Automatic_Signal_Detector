{
  "nbformat": 4,
  "nbformat_minor": 0,
  "metadata": {
    "colab": {
      "name": "Task 2 :Detect faces (no eyes) and with the optimization.ipynb",
      "provenance": [],
      "collapsed_sections": []
    },
    "kernelspec": {
      "name": "python3",
      "display_name": "Python 3"
    }
  },
  "cells": [
    {
      "cell_type": "markdown",
      "metadata": {
        "id": "p44I5Z8O-P8I"
      },
      "source": [
        "## Task 2 :detect faces (no eyes) and with the optimization.ipynb\n",
        "Use Haar Cascades to dectect"
      ]
    },
    {
      "cell_type": "markdown",
      "metadata": {
        "id": "fsKtjckA-Vmu"
      },
      "source": [
        "Import necessary libraries"
      ]
    },
    {
      "cell_type": "code",
      "metadata": {
        "id": "nBGf6xh4Hg2K"
      },
      "source": [
        "#Use Javascript code to call your local webcam\n",
        "from IPython.display import display, Javascript\n",
        "from google.colab.output import eval_js\n",
        "#Convert the image type that captured by webcam\n",
        "from base64 import b64decode, b64encode\n",
        "\n",
        "import numpy as np\n",
        "from PIL import Image\n",
        "\n",
        "import io\n",
        "import cv2 # OpenCV library "
      ],
      "execution_count": null,
      "outputs": []
    },
    {
      "cell_type": "markdown",
      "metadata": {
        "id": "T3j99SNc_Dbk"
      },
      "source": [
        "JavaScript Code to call local WebCam and the image type is base64"
      ]
    },
    {
      "cell_type": "code",
      "metadata": {
        "id": "XS0UfPTMIAjH"
      },
      "source": [
        "from google.colab.output import eval_js\n",
        "\n",
        "def VideoCapture():\n",
        "  js = Javascript('''\n",
        "    async function create(){\n",
        "      div = document.createElement('div');\n",
        "      document.body.appendChild(div);\n",
        "\n",
        "      video = document.createElement('video');\n",
        "      video.setAttribute('playsinline', '');\n",
        "\n",
        "      div.appendChild(video);\n",
        "      stream = await navigator.mediaDevices.getUserMedia({video: {facingMode: \"environment\"}});\n",
        "      video.srcObject = stream;\n",
        "\n",
        "      await video.play();\n",
        "\n",
        "      canvas =  document.createElement('canvas');\n",
        "      canvas.width = video.videoWidth;\n",
        "      canvas.height = video.videoHeight;\n",
        "      canvas.getContext('2d').drawImage(video, 0, 0);\n",
        "\n",
        "      div_out = document.createElement('div');\n",
        "      document.body.appendChild(div_out);\n",
        "      img = document.createElement('img');\n",
        "      div_out.appendChild(img);\n",
        "    }\n",
        "\n",
        "    async function capture(){\n",
        "        return await new Promise(function(resolve, reject){\n",
        "            pendingResolve = resolve;\n",
        "            canvas.getContext('2d').drawImage(video, 0, 0);\n",
        "            result = canvas.toDataURL('image/jpeg', 0.40);\n",
        "\n",
        "            pendingResolve(result);\n",
        "        })\n",
        "    }\n",
        "\n",
        "    function showimg(imgb64){\n",
        "        img.src = \"data:image/jpg;base64,\" + imgb64;\n",
        "    }\n",
        "\n",
        "  ''')\n",
        "  display(js)"
      ],
      "execution_count": null,
      "outputs": []
    },
    {
      "cell_type": "markdown",
      "metadata": {
        "id": "RdJpJt3R_ULm"
      },
      "source": [
        "### Define the Image Conversion function\n",
        "\n",
        "For VideoCapture functions return images with base64 type\n",
        "\n",
        "For cv2 need images with bytes type"
      ]
    },
    {
      "cell_type": "code",
      "metadata": {
        "id": "xRSMs81vI1kW"
      },
      "source": [
        "def b64_to_bytes(byte):\n",
        "  jpeg = b64decode(byte.split(',')[1])\n",
        "  im = Image.open(io.BytesIO(jpeg))\n",
        "  return np.array(im)\n",
        "\n",
        "def bytes_to_b64(image):\n",
        "  image = Image.fromarray(image)\n",
        "  buffer = io.BytesIO()\n",
        "  image.save(buffer, 'jpeg')\n",
        "  buffer.seek(0)\n",
        "  x = b64encode(buffer.read()).decode('utf-8')\n",
        "  return x"
      ],
      "execution_count": null,
      "outputs": []
    },
    {
      "cell_type": "markdown",
      "metadata": {
        "id": "MQF4W0bbAMkP"
      },
      "source": [
        "The haar cascades files are in Google drive"
      ]
    },
    {
      "cell_type": "code",
      "metadata": {
        "colab": {
          "base_uri": "https://localhost:8080/"
        },
        "id": "LzoxP1NYVUrh",
        "outputId": "f58b3159-c50b-4361-e313-ec76de0a736c"
      },
      "source": [
        "from google.colab import drive\n",
        "drive.mount(\"/content/drive\")"
      ],
      "execution_count": null,
      "outputs": [
        {
          "output_type": "stream",
          "text": [
            "Mounted at /content/drive\n"
          ],
          "name": "stdout"
        }
      ]
    },
    {
      "cell_type": "code",
      "metadata": {
        "id": "pvm1YoLZKNow"
      },
      "source": [
        "# Load cascades using cv2.CascadeClassifier\n",
        "faces_cascades = cv2.CascadeClassifier(\"/content/drive/MyDrive/Computer_Vision/haarcascade_frontalface_default.xml\")\n",
        "eyes_cascade = cv2.CascadeClassifier(\"/content/drive/MyDrive/Computer_Vision/haarcascade_eye.xml\")"
      ],
      "execution_count": null,
      "outputs": []
    },
    {
      "cell_type": "code",
      "metadata": {
        "id": "YQJXY5aQeeGE"
      },
      "source": [
        "def detect_faces(img, cascades):\n",
        "  #transform image into grayscale\n",
        "  gray = cv2.cvtColor(img,cv2.COLOR_BGR2GRAY)\n",
        "  #use cascades to detect faces\n",
        "  faces = cascades.detectMultiScale(gray, 1.3, 4)\n",
        "  return faces"
      ],
      "execution_count": null,
      "outputs": []
    },
    {
      "cell_type": "markdown",
      "metadata": {
        "id": "rpsausVsoyTS"
      },
      "source": [
        "### Compute the sub region"
      ]
    },
    {
      "cell_type": "code",
      "metadata": {
        "id": "JsIz8O76fGnv"
      },
      "source": [
        "#This function computes the sub region in which we want to detect faces\n",
        "def compute_optimized_search_region(previous, img_height, img_width, margin):\n",
        "  # here previous is the array of faces (x of top left, y of top left, face width, face height)\n",
        "  # img_height and img_width is the whole img captured by the webcam, we use this to avoid the bounding box over the image\n",
        "  # margin is the distance between bounding box and face region\n",
        "  x_tl, y_tl = previous[0] - margin, previous[1] - margin\n",
        "  x_br, y_br = previous[0] + previous[2] + margin, previous[1] + previous[3] + margin\n",
        "  #set bounding box constraints\n",
        "  x_tl, y_tl = max(x_tl, 0), max(y_tl, 0)\n",
        "  x_br, y_br = min(x_br, img_width), min(y_br, img_height)\n",
        "  # return the new bounding box coordinates\n",
        "  return (x_tl, y_tl, x_br - x_tl, y_br - y_tl)"
      ],
      "execution_count": null,
      "outputs": []
    },
    {
      "cell_type": "code",
      "metadata": {
        "id": "8aKUgL33DS7J",
        "colab": {
          "base_uri": "https://localhost:8080/",
          "height": 1000
        },
        "outputId": "51efcb80-c374-4619-af14-5faf9e146e53"
      },
      "source": [
        "VideoCapture()\n",
        "eval_js('create()')# call the local camera to capture\n",
        "\n",
        "b64_im = eval_js('capture()') # Take a capture \n",
        "im = b64_to_bytes(b64_im) # Convert the capture brom base64 to bytes array\n",
        "# get the whole image height and width\n",
        "(img_height, img_width) = im.shape[0], im.shape[1]\n",
        "# set the previous box as none\n",
        "previous_bbox = None\n",
        "margin = 50\n",
        "\n",
        "while True:\n",
        "\n",
        "  b64_im = eval_js('capture()') # Take a capture \n",
        "  im = b64_to_bytes(b64_im) # Convert the capture brom base64 to bytes array\n",
        "  region_to_use = im\n",
        "\n",
        "  if previous_bbox is not None:\n",
        "    (new_x,new_y,new_width,new_height) = compute_optimized_search_region(previous_bbox,img_height,img_width,margin)\n",
        "    #retrieve the sub region\n",
        "    region_to_use = im[new_y:new_y+new_height, new_x:new_x+new_width]\n",
        "    #draw a red rectangle\n",
        "    cv2.rectangle(im, (new_x,new_y), (new_x+new_width, new_y+new_height),(255,0,0),5)\n",
        "\n",
        "  #Detect faces in subregion\n",
        "  faces = detect_faces(region_to_use, faces_cascades)\n",
        "  \n",
        "  if len(faces) == 1:\n",
        "    #update the face bounding box\n",
        "    face = faces[0]\n",
        "    # here, if the previous box is not None which means the region we searched is the bounding box.\n",
        "    # so if we want to find the correct coordinates of face on the whole image, we need to add the bounding box coordinates\n",
        "    (x,y,w,h) = face if previous_bbox is None else (new_x+face[0], new_y+face[1], face[2], face[3])\n",
        "    # update previous_bbox\n",
        "    previous_bbox = (x,y,w,h)\n",
        "    #draw a green rectangle around the detected face\n",
        "    cv2.rectangle(im, (x,y), (x+w, y+h), (0, 255, 0), 2)\n",
        "\n",
        "    # here if we can find the face region, we also could find eyes in the face region\n",
        "    face_roi_im = im[y:y+h, x:x+w]\n",
        "    face_roi_gray = cv2.cvtColor(face_roi_im,cv2.COLOR_BGR2GRAY)\n",
        "    \n",
        "    # detect eyes\n",
        "    eyes = eyes_cascade.detectMultiScale(face_roi_gray, 1.3, 4)\n",
        "    for(e_x,e_y,e_w,e_h)in eyes:\n",
        "      #draw a rectangle around each eye\n",
        "      cv2.rectangle(face_roi_im,(e_x,e_y),(e_x+e_w,e_y+e_h),(0,0,255),2)\n",
        "\n",
        "  else:\n",
        "    # currently we assume only one face in  the image\n",
        "    previous_bbox= None\n",
        "\n",
        "  #convert image with bounding boxes into base64 and plot it using JS\n",
        "  eval_js('showimg(\"{}\")'.format(bytes_to_b64(im)))"
      ],
      "execution_count": null,
      "outputs": [
        {
          "output_type": "display_data",
          "data": {
            "application/javascript": [
              "\n",
              "    async function create(){\n",
              "      div = document.createElement('div');\n",
              "      document.body.appendChild(div);\n",
              "\n",
              "      video = document.createElement('video');\n",
              "      video.setAttribute('playsinline', '');\n",
              "\n",
              "      div.appendChild(video);\n",
              "      stream = await navigator.mediaDevices.getUserMedia({video: {facingMode: \"environment\"}});\n",
              "      video.srcObject = stream;\n",
              "\n",
              "      await video.play();\n",
              "\n",
              "      canvas =  document.createElement('canvas');\n",
              "      canvas.width = video.videoWidth;\n",
              "      canvas.height = video.videoHeight;\n",
              "      canvas.getContext('2d').drawImage(video, 0, 0);\n",
              "\n",
              "      div_out = document.createElement('div');\n",
              "      document.body.appendChild(div_out);\n",
              "      img = document.createElement('img');\n",
              "      div_out.appendChild(img);\n",
              "    }\n",
              "\n",
              "    async function capture(){\n",
              "        return await new Promise(function(resolve, reject){\n",
              "            pendingResolve = resolve;\n",
              "            canvas.getContext('2d').drawImage(video, 0, 0);\n",
              "            result = canvas.toDataURL('image/jpeg', 0.40);\n",
              "\n",
              "            pendingResolve(result);\n",
              "        })\n",
              "    }\n",
              "\n",
              "    function showimg(imgb64){\n",
              "        img.src = \"data:image/jpg;base64,\" + imgb64;\n",
              "    }\n",
              "\n",
              "  "
            ],
            "text/plain": [
              "<IPython.core.display.Javascript object>"
            ]
          },
          "metadata": {
            "tags": []
          }
        },
        {
          "output_type": "error",
          "ename": "KeyboardInterrupt",
          "evalue": "ignored",
          "traceback": [
            "\u001b[0;31m---------------------------------------------------------------------------\u001b[0m",
            "\u001b[0;31mKeyboardInterrupt\u001b[0m                         Traceback (most recent call last)",
            "\u001b[0;32m<ipython-input-8-e6b6ab326d62>\u001b[0m in \u001b[0;36m<module>\u001b[0;34m()\u001b[0m\n\u001b[1;32m     52\u001b[0m \u001b[0;34m\u001b[0m\u001b[0m\n\u001b[1;32m     53\u001b[0m   \u001b[0;31m#convert image with bounding boxes into base64 and plot it using JS\u001b[0m\u001b[0;34m\u001b[0m\u001b[0;34m\u001b[0m\u001b[0;34m\u001b[0m\u001b[0m\n\u001b[0;32m---> 54\u001b[0;31m   \u001b[0meval_js\u001b[0m\u001b[0;34m(\u001b[0m\u001b[0;34m'showimg(\"{}\")'\u001b[0m\u001b[0;34m.\u001b[0m\u001b[0mformat\u001b[0m\u001b[0;34m(\u001b[0m\u001b[0mbytes_to_b64\u001b[0m\u001b[0;34m(\u001b[0m\u001b[0mim\u001b[0m\u001b[0;34m)\u001b[0m\u001b[0;34m)\u001b[0m\u001b[0;34m)\u001b[0m\u001b[0;34m\u001b[0m\u001b[0;34m\u001b[0m\u001b[0m\n\u001b[0m",
            "\u001b[0;32m/usr/local/lib/python3.7/dist-packages/google/colab/output/_js.py\u001b[0m in \u001b[0;36meval_js\u001b[0;34m(script, ignore_result, timeout_sec)\u001b[0m\n\u001b[1;32m     38\u001b[0m   \u001b[0;32mif\u001b[0m \u001b[0mignore_result\u001b[0m\u001b[0;34m:\u001b[0m\u001b[0;34m\u001b[0m\u001b[0;34m\u001b[0m\u001b[0m\n\u001b[1;32m     39\u001b[0m     \u001b[0;32mreturn\u001b[0m\u001b[0;34m\u001b[0m\u001b[0;34m\u001b[0m\u001b[0m\n\u001b[0;32m---> 40\u001b[0;31m   \u001b[0;32mreturn\u001b[0m \u001b[0m_message\u001b[0m\u001b[0;34m.\u001b[0m\u001b[0mread_reply_from_input\u001b[0m\u001b[0;34m(\u001b[0m\u001b[0mrequest_id\u001b[0m\u001b[0;34m,\u001b[0m \u001b[0mtimeout_sec\u001b[0m\u001b[0;34m)\u001b[0m\u001b[0;34m\u001b[0m\u001b[0;34m\u001b[0m\u001b[0m\n\u001b[0m\u001b[1;32m     41\u001b[0m \u001b[0;34m\u001b[0m\u001b[0m\n\u001b[1;32m     42\u001b[0m \u001b[0;34m\u001b[0m\u001b[0m\n",
            "\u001b[0;32m/usr/local/lib/python3.7/dist-packages/google/colab/_message.py\u001b[0m in \u001b[0;36mread_reply_from_input\u001b[0;34m(message_id, timeout_sec)\u001b[0m\n\u001b[1;32m     99\u001b[0m     \u001b[0mreply\u001b[0m \u001b[0;34m=\u001b[0m \u001b[0m_read_next_input_message\u001b[0m\u001b[0;34m(\u001b[0m\u001b[0;34m)\u001b[0m\u001b[0;34m\u001b[0m\u001b[0;34m\u001b[0m\u001b[0m\n\u001b[1;32m    100\u001b[0m     \u001b[0;32mif\u001b[0m \u001b[0mreply\u001b[0m \u001b[0;34m==\u001b[0m \u001b[0m_NOT_READY\u001b[0m \u001b[0;32mor\u001b[0m \u001b[0;32mnot\u001b[0m \u001b[0misinstance\u001b[0m\u001b[0;34m(\u001b[0m\u001b[0mreply\u001b[0m\u001b[0;34m,\u001b[0m \u001b[0mdict\u001b[0m\u001b[0;34m)\u001b[0m\u001b[0;34m:\u001b[0m\u001b[0;34m\u001b[0m\u001b[0;34m\u001b[0m\u001b[0m\n\u001b[0;32m--> 101\u001b[0;31m       \u001b[0mtime\u001b[0m\u001b[0;34m.\u001b[0m\u001b[0msleep\u001b[0m\u001b[0;34m(\u001b[0m\u001b[0;36m0.025\u001b[0m\u001b[0;34m)\u001b[0m\u001b[0;34m\u001b[0m\u001b[0;34m\u001b[0m\u001b[0m\n\u001b[0m\u001b[1;32m    102\u001b[0m       \u001b[0;32mcontinue\u001b[0m\u001b[0;34m\u001b[0m\u001b[0;34m\u001b[0m\u001b[0m\n\u001b[1;32m    103\u001b[0m     if (reply.get('type') == 'colab_reply' and\n",
            "\u001b[0;31mKeyboardInterrupt\u001b[0m: "
          ]
        }
      ]
    },
    {
      "cell_type": "code",
      "metadata": {
        "id": "IWbppypmaIDq"
      },
      "source": [
        "im.shape"
      ],
      "execution_count": null,
      "outputs": []
    },
    {
      "cell_type": "code",
      "metadata": {
        "id": "Y1BEZqJbWX8a"
      },
      "source": [
        ""
      ],
      "execution_count": null,
      "outputs": []
    }
  ]
}