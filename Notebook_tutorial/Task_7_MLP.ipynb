{
  "nbformat": 4,
  "nbformat_minor": 0,
  "metadata": {
    "colab": {
      "name": "Task 7: MLP.ipynb",
      "provenance": [],
      "collapsed_sections": []
    },
    "kernelspec": {
      "display_name": "Python 3",
      "name": "python3"
    },
    "language_info": {
      "name": "python"
    }
  },
  "cells": [
    {
      "cell_type": "markdown",
      "metadata": {
        "id": "FMdzWBu-eQLg"
      },
      "source": [
        "### Import necessary libraries"
      ]
    },
    {
      "cell_type": "code",
      "metadata": {
        "colab": {
          "background_save": true
        },
        "id": "12nVR2ALLuS-"
      },
      "source": [
        "import keras\n",
        "from keras.models import Sequential\n",
        "from keras.layers import Dense, Dropout\n",
        "# use cv2 to read image\n",
        "import cv2\n",
        "import glob\n",
        "import numpy as np\n",
        "from sklearn.model_selection import train_test_split\n",
        "from matplotlib import pyplot as plt"
      ],
      "execution_count": null,
      "outputs": []
    },
    {
      "cell_type": "code",
      "metadata": {
        "colab": {
          "base_uri": "https://localhost:8080/"
        },
        "id": "Cet9TOJMM1AN",
        "outputId": "a4c2e28c-8012-4950-8c23-b3825b968af7"
      },
      "source": [
        "from google.colab import drive\n",
        "drive.mount('/content/drive', force_remount=True)"
      ],
      "execution_count": null,
      "outputs": [
        {
          "output_type": "stream",
          "text": [
            "Mounted at /content/drive\n"
          ],
          "name": "stdout"
        }
      ]
    },
    {
      "cell_type": "markdown",
      "metadata": {
        "id": "YIoekaRseXFU"
      },
      "source": [
        "### Load data"
      ]
    },
    {
      "cell_type": "code",
      "metadata": {
        "id": "0km8rtN7M_PM"
      },
      "source": [
        "!cp /content/drive/MyDrive/Computer_Vision/DataSet/Dataset.zip .\n",
        "!unzip Dataset.zip -d dataset"
      ],
      "execution_count": null,
      "outputs": []
    },
    {
      "cell_type": "code",
      "metadata": {
        "id": "VvBhGFp0OzrD"
      },
      "source": [
        "def load_data(path):\n",
        "  samples = []\n",
        "  letters = []\n",
        "  for folder in glob.glob(path+'/*'):\n",
        "    label = folder.split('/')[3]\n",
        "    # convert label from str to int\n",
        "    label = ord(label)-ord('A')\n",
        "    for images in glob.glob(folder+'/*'):\n",
        "      img = cv2.imread(images)\n",
        "      # convert img into grayscale\n",
        "      img_gray = cv2.cvtColor(img, cv2.COLOR_BGR2GRAY)\n",
        "      # here it's important to use flatten to reduce one dim\n",
        "      img_gray = np.reshape(img_gray, (1024,-1)).flatten()\n",
        "      samples.append(img_gray)\n",
        "      letters.append(label)\n",
        "  return np.array(samples), np.array(letters)"
      ],
      "execution_count": null,
      "outputs": []
    },
    {
      "cell_type": "code",
      "metadata": {
        "id": "A7zE-LggefS9"
      },
      "source": [
        "path = \"/content/dataset\"\n",
        "samples, letters = load_data(path)"
      ],
      "execution_count": null,
      "outputs": []
    },
    {
      "cell_type": "markdown",
      "metadata": {
        "id": "updW11D6m9yg"
      },
      "source": [
        "Construct training, validation, and test data"
      ]
    },
    {
      "cell_type": "code",
      "metadata": {
        "id": "K9aPlI9Lel-n"
      },
      "source": [
        "# split dataset\n",
        "x_train, x_test, y_train, y_test = train_test_split(\n",
        "  samples, letters, test_size=0.1, random_state=42)\n",
        "\n",
        "x_train, x_val, y_train, y_val = train_test_split(\n",
        "  x_train, y_train, test_size=0.2, random_state=42)"
      ],
      "execution_count": null,
      "outputs": []
    },
    {
      "cell_type": "code",
      "metadata": {
        "colab": {
          "base_uri": "https://localhost:8080/"
        },
        "id": "iUTxFBfRetSe",
        "outputId": "c0c62dce-508a-45d6-aa9f-b5515fb40a7e"
      },
      "source": [
        "# Normalize the data\n",
        "x_train = x_train.astype('float32')\n",
        "x_test = x_test.astype('float32')\n",
        "x_val = x_val.astype('float32')\n",
        "x_train /= 255\n",
        "x_test /= 255\n",
        "x_val /= 255\n",
        "print(x_train.shape[0], 'train samples')\n",
        "print(x_test.shape[0], 'test samples')\n",
        "print(x_val.shape[0], 'val samples')"
      ],
      "execution_count": null,
      "outputs": [
        {
          "output_type": "stream",
          "text": [
            "2189 train samples\n",
            "305 test samples\n",
            "548 val samples\n"
          ],
          "name": "stdout"
        }
      ]
    },
    {
      "cell_type": "code",
      "metadata": {
        "id": "U7iT2iMuMzAn"
      },
      "source": [
        "num_classes = 3\n",
        "# convert class vectors to binary class matrices\n",
        "y_train = keras.utils.to_categorical(y_train, num_classes)\n",
        "y_val = keras.utils.to_categorical(y_val, num_classes)"
      ],
      "execution_count": null,
      "outputs": []
    },
    {
      "cell_type": "code",
      "metadata": {
        "colab": {
          "base_uri": "https://localhost:8080/"
        },
        "id": "uY-NCRqAwGaH",
        "outputId": "885b8815-84af-4391-ea6b-374d34bd74ed"
      },
      "source": [
        "x_train.shape"
      ],
      "execution_count": null,
      "outputs": [
        {
          "output_type": "execute_result",
          "data": {
            "text/plain": [
              "(2189, 1024)"
            ]
          },
          "metadata": {
            "tags": []
          },
          "execution_count": 11
        }
      ]
    },
    {
      "cell_type": "code",
      "metadata": {
        "colab": {
          "base_uri": "https://localhost:8080/"
        },
        "id": "2POE1mnJiWuT",
        "outputId": "babf1b5d-dc3d-42a6-ce8a-390fff19f633"
      },
      "source": [
        "y_train.shape"
      ],
      "execution_count": null,
      "outputs": [
        {
          "output_type": "execute_result",
          "data": {
            "text/plain": [
              "(2189, 3)"
            ]
          },
          "metadata": {
            "tags": []
          },
          "execution_count": 12
        }
      ]
    },
    {
      "cell_type": "markdown",
      "metadata": {
        "id": "1QMpeKlae7GM"
      },
      "source": [
        "Build MLP Model"
      ]
    },
    {
      "cell_type": "markdown",
      "metadata": {
        "id": "OAUn_7Qz07sS"
      },
      "source": [
        "Here, compared to less neurons, if we increase the number of neurons at evch layer and increase the number of epoches, we can get a better result.\n"
      ]
    },
    {
      "cell_type": "code",
      "metadata": {
        "colab": {
          "base_uri": "https://localhost:8080/"
        },
        "id": "1P_LVrN9RNsp",
        "outputId": "1603f045-7adb-4db9-8bc0-4920d176e906"
      },
      "source": [
        "model = Sequential()\n",
        "# Increase the number of neurons\n",
        "model.add(Dense(400, input_dim=1024, activation='relu'))\n",
        "model.add(Dropout(0.2))\n",
        "model.add(Dense(300, activation='relu'))\n",
        "model.add(Dropout(0.2))\n",
        "model.add(Dense(300, activation='relu'))\n",
        "model.add(Dense(3, activation='softmax'))\n",
        "\n",
        "model.summary()\n",
        "\n",
        "model.compile(loss='categorical_crossentropy',\n",
        "              optimizer='rmsprop',\n",
        "              metrics=['accuracy'])"
      ],
      "execution_count": null,
      "outputs": [
        {
          "output_type": "stream",
          "text": [
            "Model: \"sequential\"\n",
            "_________________________________________________________________\n",
            "Layer (type)                 Output Shape              Param #   \n",
            "=================================================================\n",
            "dense (Dense)                (None, 400)               410000    \n",
            "_________________________________________________________________\n",
            "dropout (Dropout)            (None, 400)               0         \n",
            "_________________________________________________________________\n",
            "dense_1 (Dense)              (None, 300)               120300    \n",
            "_________________________________________________________________\n",
            "dropout_1 (Dropout)          (None, 300)               0         \n",
            "_________________________________________________________________\n",
            "dense_2 (Dense)              (None, 300)               90300     \n",
            "_________________________________________________________________\n",
            "dense_3 (Dense)              (None, 3)                 903       \n",
            "=================================================================\n",
            "Total params: 621,503\n",
            "Trainable params: 621,503\n",
            "Non-trainable params: 0\n",
            "_________________________________________________________________\n"
          ],
          "name": "stdout"
        }
      ]
    },
    {
      "cell_type": "markdown",
      "metadata": {
        "id": "zlnt6uvne9DK"
      },
      "source": [
        "### Train model"
      ]
    },
    {
      "cell_type": "code",
      "metadata": {
        "colab": {
          "base_uri": "https://localhost:8080/"
        },
        "id": "Z2D-AXxYTazY",
        "outputId": "80d17543-b639-45df-fdad-6d7dc6824915"
      },
      "source": [
        "epochs =10\n",
        "history = model.fit(x_train, y_train,\n",
        "                    epochs=epochs,\n",
        "                    verbose=1,\n",
        "                    validation_data=(x_val, y_val)\n",
        "                    )\n",
        "score = model.evaluate(x_val, y_val, verbose=0)\n",
        "print('Validation loss:', score[0])\n",
        "print('Validation accuracy:', score[1])"
      ],
      "execution_count": null,
      "outputs": [
        {
          "output_type": "stream",
          "text": [
            "Epoch 1/10\n",
            "69/69 [==============================] - 1s 8ms/step - loss: 0.3351 - accuracy: 0.8862 - val_loss: 0.1801 - val_accuracy: 0.9507\n",
            "Epoch 2/10\n",
            "69/69 [==============================] - 1s 8ms/step - loss: 0.3193 - accuracy: 0.8940 - val_loss: 0.3495 - val_accuracy: 0.8960\n",
            "Epoch 3/10\n",
            "69/69 [==============================] - 1s 7ms/step - loss: 0.3291 - accuracy: 0.8894 - val_loss: 0.2292 - val_accuracy: 0.9325\n",
            "Epoch 4/10\n",
            "69/69 [==============================] - 1s 7ms/step - loss: 0.3075 - accuracy: 0.9032 - val_loss: 0.1544 - val_accuracy: 0.9526\n",
            "Epoch 5/10\n",
            "69/69 [==============================] - 1s 7ms/step - loss: 0.3163 - accuracy: 0.8867 - val_loss: 0.1771 - val_accuracy: 0.9434\n",
            "Epoch 6/10\n",
            "69/69 [==============================] - 1s 8ms/step - loss: 0.2964 - accuracy: 0.9013 - val_loss: 0.4411 - val_accuracy: 0.8139\n",
            "Epoch 7/10\n",
            "69/69 [==============================] - 1s 7ms/step - loss: 0.2837 - accuracy: 0.8968 - val_loss: 0.5140 - val_accuracy: 0.8066\n",
            "Epoch 8/10\n",
            "69/69 [==============================] - 1s 8ms/step - loss: 0.3133 - accuracy: 0.8849 - val_loss: 0.2050 - val_accuracy: 0.9288\n",
            "Epoch 9/10\n",
            "69/69 [==============================] - 1s 8ms/step - loss: 0.3047 - accuracy: 0.8954 - val_loss: 0.2333 - val_accuracy: 0.9270\n",
            "Epoch 10/10\n",
            "69/69 [==============================] - 1s 8ms/step - loss: 0.3347 - accuracy: 0.8876 - val_loss: 0.1657 - val_accuracy: 0.9599\n",
            "Validation loss: 0.16565176844596863\n",
            "Validation accuracy: 0.959854006767273\n"
          ],
          "name": "stdout"
        }
      ]
    },
    {
      "cell_type": "markdown",
      "metadata": {
        "id": "cnuZc7LpxJs3"
      },
      "source": [
        "### Plot Accuracy and Loss\n"
      ]
    },
    {
      "cell_type": "code",
      "metadata": {
        "colab": {
          "base_uri": "https://localhost:8080/",
          "height": 352
        },
        "id": "TV0hD-q-xPVT",
        "outputId": "51ac6c38-df12-4ffb-fd99-0b15bc9d0a91"
      },
      "source": [
        "plt.figure(figsize=(10,5))\n",
        "\n",
        "plt.subplot(1,2,1)\n",
        "plt.plot(history.history['accuracy'], label='train accuracy')\n",
        "plt.plot(history.history['val_accuracy'], label = 'val accuracy')\n",
        "plt.xlabel('Epoch')\n",
        "plt.ylabel('Accuracy')\n",
        "plt.legend(loc='lower right')\n",
        "plt.subplot(1,2,2)\n",
        "plt.plot(history.history['loss'], label='train loss')\n",
        "plt.plot(history.history['val_loss'], label = 'val loss')\n",
        "plt.xlabel('Epoch')\n",
        "plt.ylabel('Loss')\n",
        "plt.legend(loc='lower right')"
      ],
      "execution_count": null,
      "outputs": [
        {
          "output_type": "execute_result",
          "data": {
            "text/plain": [
              "<matplotlib.legend.Legend at 0x7fd6343b1e10>"
            ]
          },
          "metadata": {
            "tags": []
          },
          "execution_count": 22
        },
        {
          "output_type": "display_data",
          "data": {
            "image/png": "[encoded data removed]",
            "text/plain": [
              "<Figure size 720x360 with 2 Axes>"
            ]
          },
          "metadata": {
            "tags": []
          }
        }
      ]
    },
    {
      "cell_type": "markdown",
      "metadata": {
        "id": "J0-y4HBjqKGO"
      },
      "source": [
        "### Predict some results"
      ]
    },
    {
      "cell_type": "code",
      "metadata": {
        "id": "_MJETRN1uskp"
      },
      "source": [
        "from sklearn.metrics import confusion_matrix\n",
        "import seaborn as sn\n",
        "import pandas as pd\n",
        "import matplotlib.pyplot as plt"
      ],
      "execution_count": null,
      "outputs": []
    },
    {
      "cell_type": "code",
      "metadata": {
        "colab": {
          "base_uri": "https://localhost:8080/"
        },
        "id": "8bl7Nc0WqAd3",
        "outputId": "543914a2-ac73-499a-b2d6-16e113c62bc8"
      },
      "source": [
        "#predict test data\n",
        "y_pred= model.predict_classes(x_test)"
      ],
      "execution_count": null,
      "outputs": [
        {
          "output_type": "stream",
          "text": [
            "/usr/local/lib/python3.7/dist-packages/tensorflow/python/keras/engine/sequential.py:450: UserWarning: `model.predict_classes()` is deprecated and will be removed after 2021-01-01. Please use instead:* `np.argmax(model.predict(x), axis=-1)`,   if your model does multi-class classification   (e.g. if it uses a `softmax` last-layer activation).* `(model.predict(x) > 0.5).astype(\"int32\")`,   if your model does binary classification   (e.g. if it uses a `sigmoid` last-layer activation).\n",
            "  warnings.warn('`model.predict_classes()` is deprecated and '\n"
          ],
          "name": "stderr"
        }
      ]
    },
    {
      "cell_type": "code",
      "metadata": {
        "colab": {
          "base_uri": "https://localhost:8080/",
          "height": 295
        },
        "id": "o2p7S5YSvLAt",
        "outputId": "6cf82b12-837b-4623-c168-04260b32f547"
      },
      "source": [
        "# Draw confusion matrix\n",
        "df_cm = pd.DataFrame(confusion_matrix(y_test, y_pred), range(3), range(3))\n",
        "# plt.figure(figsize=(10,7))\n",
        "sn.set(font_scale=1.4) # for label size\n",
        "sn.heatmap(df_cm, annot=True, annot_kws={\"size\": 16}) # font size\n",
        "plt.xlabel('Predicted')\n",
        "plt.ylabel('True')\n",
        "plt.show()"
      ],
      "execution_count": null,
      "outputs": [
        {
          "output_type": "display_data",
          "data": {
            "image/png": "[encoded data removed]",
            "text/plain": [
              "<Figure size 432x288 with 2 Axes>"
            ]
          },
          "metadata": {
            "tags": []
          }
        }
      ]
    },
    {
      "cell_type": "markdown",
      "metadata": {
        "id": "jwJLaTJQnegn"
      },
      "source": [
        "### Save model "
      ]
    },
    {
      "cell_type": "code",
      "metadata": {
        "colab": {
          "base_uri": "https://localhost:8080/"
        },
        "id": "YQ2V0x15cmP1",
        "outputId": "5b67dcc2-a921-4fce-be03-6ada002dadc7"
      },
      "source": [
        "model_json = model.to_json()\n",
        "with open(\"MLPmodel.json\", \"w\") as json_file:\n",
        "    json_file.write(model_json)\n",
        "model.save_weights(\"MLPmodel_weights.h5\")\n",
        "print(\"Saved model to disk\") "
      ],
      "execution_count": null,
      "outputs": [
        {
          "output_type": "stream",
          "text": [
            "Saved model to disk\n"
          ],
          "name": "stdout"
        }
      ]
    },
    {
      "cell_type": "markdown",
      "metadata": {
        "id": "cyneWvSGn5nF"
      },
      "source": [
        "### Load model\n"
      ]
    },
    {
      "cell_type": "code",
      "metadata": {
        "id": "hEVuODU-npJN"
      },
      "source": [
        "from keras.models import model_from_json\n",
        "\n",
        "# load json and create model\n",
        "json_file = open('/content/MLPmodel.json', 'r')\n",
        "loaded_model_json = json_file.read()\n",
        "json_file.close()\n",
        "loaded_model = model_from_json(loaded_model_json)\n",
        "# load weights into new model\n",
        "loaded_model.load_weights(\"MLPmodel_weights.h5\")"
      ],
      "execution_count": null,
      "outputs": []
    },
    {
      "cell_type": "markdown",
      "metadata": {
        "id": "IVqZ8qvJoEGz"
      },
      "source": [
        "### Prediction"
      ]
    },
    {
      "cell_type": "code",
      "metadata": {
        "id": "rhL3u8SIriCx"
      },
      "source": [
        "from google.colab.patches import cv2_imshow"
      ],
      "execution_count": null,
      "outputs": []
    },
    {
      "cell_type": "code",
      "metadata": {
        "colab": {
          "base_uri": "https://localhost:8080/",
          "height": 49
        },
        "id": "8HVLzRjEpKCK",
        "outputId": "0c9919be-209b-45b1-f4f6-72d5d35b9f8d"
      },
      "source": [
        "image = cv2.imread(\"/content/dataset/C/10.jpg\")\n",
        "cv2_imshow(image)"
      ],
      "execution_count": null,
      "outputs": [
        {
          "output_type": "display_data",
          "data": {
            "image/png": "[encoded data removed]",
            "text/plain": [
              "<PIL.Image.Image image mode=RGB size=32x32 at 0x7FD63246A650>"
            ]
          },
          "metadata": {
            "tags": []
          }
        }
      ]
    },
    {
      "cell_type": "code",
      "metadata": {
        "colab": {
          "base_uri": "https://localhost:8080/"
        },
        "id": "yRwvfms1oH1q",
        "outputId": "87fc1ec2-4a55-4b91-c47b-31e1115e2f30"
      },
      "source": [
        "hand_image = cv2.cvtColor(image, cv2.COLOR_BGR2GRAY)\n",
        "hand_image = np.reshape(hand_image,(1,1024))\n",
        "hand_image.shape"
      ],
      "execution_count": null,
      "outputs": [
        {
          "output_type": "execute_result",
          "data": {
            "text/plain": [
              "(1, 1024)"
            ]
          },
          "metadata": {
            "tags": []
          },
          "execution_count": 30
        }
      ]
    },
    {
      "cell_type": "code",
      "metadata": {
        "colab": {
          "base_uri": "https://localhost:8080/",
          "height": 35
        },
        "id": "4Ldn-wx9n9Hg",
        "outputId": "4e668112-69c7-4d3f-e0ab-1ead647c29a8"
      },
      "source": [
        "prediction = loaded_model.predict(hand_image) # where hand_image is the probability image of your hand of size (1,1024)\n",
        "prediction = prediction.argmax()\n",
        "predicted_letter = chr(ord('A') + prediction)\n",
        "predicted_letter"
      ],
      "execution_count": null,
      "outputs": [
        {
          "output_type": "execute_result",
          "data": {
            "application/vnd.google.colaboratory.intrinsic+json": {
              "type": "string"
            },
            "text/plain": [
              "'C'"
            ]
          },
          "metadata": {
            "tags": []
          },
          "execution_count": 31
        }
      ]
    },
    {
      "cell_type": "code",
      "metadata": {
        "id": "CR8ihLSozU4V"
      },
      "source": [
        ""
      ],
      "execution_count": null,
      "outputs": []
    }
  ]
}